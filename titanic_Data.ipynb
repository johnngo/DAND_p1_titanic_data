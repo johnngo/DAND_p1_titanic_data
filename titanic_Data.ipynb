{
 "cells": [
  {
   "cell_type": "markdown",
   "metadata": {
    "collapsed": true
   },
   "source": [
    "# Titanic - Investigate a Dataset\n",
    "\n",
    "The Titanic dataset includes the demographic and passenger information from 891 of the 2224 passengers and crew on board of the Titanic. You can view a description of the dataset on the Kaggle website, where the data was obtained (https://www.kaggle.com/c/titanic/data).\n",
    "\n",
    "## Description of the Dataset\n",
    "\n",
    "##### Data Dictionary\n",
    "\n",
    "Variable   Definition\tKey\n",
    "survival   Survival\t0 = No, 1 = Yes\n",
    "pclass\t   Ticket class\t1 = 1st, 2 = 2nd, 3 = 3rd\n",
    "sex\t       Sex\t\n",
    "Age\t       Age in years\t\n",
    "sibsp\t   # of siblings / spouses aboard the Titanic\t\n",
    "parch\t   # of parents / children aboard the Titanic\t\n",
    "ticket\t   Ticket number\t\n",
    "fare\t   Passenger fare\t\n",
    "cabin\t   Cabin number\t\n",
    "embarked   Port of Embarkation\tC = Cherbourg, Q = Queenstown, S = Southampton\n",
    "\n",
    "##### Variable Notes\n",
    "\n",
    "pclass: A proxy for socio-economic status (SES)\n",
    "1st = Upper\n",
    "2nd = Middle\n",
    "3rd = Lower\n",
    "\n",
    "age: Age is fractional if less than 1. If the age is estimated, is it in the form of xx.5\n",
    "\n",
    "sibsp: The dataset defines family relations in this way...\n",
    "Sibling = brother, sister, stepbrother, stepsister\n",
    "Spouse = husband, wife (mistresses and fiancés were ignored)\n",
    "\n",
    "parch: The dataset defines family relations in this way...\n",
    "Parent = mother, father\n",
    "Child = daughter, son, stepdaughter, stepson\n",
    "Some children travelled only with a nanny, therefore parch=0 for them."
   ]
  },
  {
   "cell_type": "markdown",
   "metadata": {},
   "source": [
    "# Question Phase\n",
    "\n",
    "1. What is the percentage of people survived?\n",
    "\n",
    "2. Did factors like Age, Sex and higher Passenger Class play a role in the survival of a passenger? \n",
    "\n",
    "3. Are people with higher fare more likely to survive? \n",
    "\n",
    "4. Did traveling with family (parents, children, siblings or spouse) increase the chance of survival of a passenger? \n",
    "\n",
    "\n",
    "\n",
    "\n"
   ]
  },
  {
   "cell_type": "code",
   "execution_count": 4,
   "metadata": {
    "collapsed": true
   },
   "outputs": [],
   "source": [
    "# import packages\n",
    "\n",
    "import numpy as np\n",
    "import pandas as pd\n",
    "import matplotlib.mlab as mlab\n",
    "import matplotlib.pyplot as plt"
   ]
  },
  {
   "cell_type": "code",
   "execution_count": 6,
   "metadata": {},
   "outputs": [
    {
     "data": {
      "text/html": [
       "<div>\n",
       "<style>\n",
       "    .dataframe thead tr:only-child th {\n",
       "        text-align: right;\n",
       "    }\n",
       "\n",
       "    .dataframe thead th {\n",
       "        text-align: left;\n",
       "    }\n",
       "\n",
       "    .dataframe tbody tr th {\n",
       "        vertical-align: top;\n",
       "    }\n",
       "</style>\n",
       "<table border=\"1\" class=\"dataframe\">\n",
       "  <thead>\n",
       "    <tr style=\"text-align: right;\">\n",
       "      <th></th>\n",
       "      <th>PassengerId</th>\n",
       "      <th>Survived</th>\n",
       "      <th>Pclass</th>\n",
       "      <th>Name</th>\n",
       "      <th>Sex</th>\n",
       "      <th>Age</th>\n",
       "      <th>SibSp</th>\n",
       "      <th>Parch</th>\n",
       "      <th>Ticket</th>\n",
       "      <th>Fare</th>\n",
       "      <th>Cabin</th>\n",
       "      <th>Embarked</th>\n",
       "    </tr>\n",
       "  </thead>\n",
       "  <tbody>\n",
       "    <tr>\n",
       "      <th>0</th>\n",
       "      <td>1</td>\n",
       "      <td>0</td>\n",
       "      <td>3</td>\n",
       "      <td>Braund, Mr. Owen Harris</td>\n",
       "      <td>male</td>\n",
       "      <td>22.0</td>\n",
       "      <td>1</td>\n",
       "      <td>0</td>\n",
       "      <td>A/5 21171</td>\n",
       "      <td>7.2500</td>\n",
       "      <td>NaN</td>\n",
       "      <td>S</td>\n",
       "    </tr>\n",
       "    <tr>\n",
       "      <th>1</th>\n",
       "      <td>2</td>\n",
       "      <td>1</td>\n",
       "      <td>1</td>\n",
       "      <td>Cumings, Mrs. John Bradley (Florence Briggs Th...</td>\n",
       "      <td>female</td>\n",
       "      <td>38.0</td>\n",
       "      <td>1</td>\n",
       "      <td>0</td>\n",
       "      <td>PC 17599</td>\n",
       "      <td>71.2833</td>\n",
       "      <td>C85</td>\n",
       "      <td>C</td>\n",
       "    </tr>\n",
       "    <tr>\n",
       "      <th>2</th>\n",
       "      <td>3</td>\n",
       "      <td>1</td>\n",
       "      <td>3</td>\n",
       "      <td>Heikkinen, Miss. Laina</td>\n",
       "      <td>female</td>\n",
       "      <td>26.0</td>\n",
       "      <td>0</td>\n",
       "      <td>0</td>\n",
       "      <td>STON/O2. 3101282</td>\n",
       "      <td>7.9250</td>\n",
       "      <td>NaN</td>\n",
       "      <td>S</td>\n",
       "    </tr>\n",
       "    <tr>\n",
       "      <th>3</th>\n",
       "      <td>4</td>\n",
       "      <td>1</td>\n",
       "      <td>1</td>\n",
       "      <td>Futrelle, Mrs. Jacques Heath (Lily May Peel)</td>\n",
       "      <td>female</td>\n",
       "      <td>35.0</td>\n",
       "      <td>1</td>\n",
       "      <td>0</td>\n",
       "      <td>113803</td>\n",
       "      <td>53.1000</td>\n",
       "      <td>C123</td>\n",
       "      <td>S</td>\n",
       "    </tr>\n",
       "    <tr>\n",
       "      <th>4</th>\n",
       "      <td>5</td>\n",
       "      <td>0</td>\n",
       "      <td>3</td>\n",
       "      <td>Allen, Mr. William Henry</td>\n",
       "      <td>male</td>\n",
       "      <td>35.0</td>\n",
       "      <td>0</td>\n",
       "      <td>0</td>\n",
       "      <td>373450</td>\n",
       "      <td>8.0500</td>\n",
       "      <td>NaN</td>\n",
       "      <td>S</td>\n",
       "    </tr>\n",
       "  </tbody>\n",
       "</table>\n",
       "</div>"
      ],
      "text/plain": [
       "   PassengerId  Survived  Pclass  \\\n",
       "0            1         0       3   \n",
       "1            2         1       1   \n",
       "2            3         1       3   \n",
       "3            4         1       1   \n",
       "4            5         0       3   \n",
       "\n",
       "                                                Name     Sex   Age  SibSp  \\\n",
       "0                            Braund, Mr. Owen Harris    male  22.0      1   \n",
       "1  Cumings, Mrs. John Bradley (Florence Briggs Th...  female  38.0      1   \n",
       "2                             Heikkinen, Miss. Laina  female  26.0      0   \n",
       "3       Futrelle, Mrs. Jacques Heath (Lily May Peel)  female  35.0      1   \n",
       "4                           Allen, Mr. William Henry    male  35.0      0   \n",
       "\n",
       "   Parch            Ticket     Fare Cabin Embarked  \n",
       "0      0         A/5 21171   7.2500   NaN        S  \n",
       "1      0          PC 17599  71.2833   C85        C  \n",
       "2      0  STON/O2. 3101282   7.9250   NaN        S  \n",
       "3      0            113803  53.1000  C123        S  \n",
       "4      0            373450   8.0500   NaN        S  "
      ]
     },
     "execution_count": 6,
     "metadata": {},
     "output_type": "execute_result"
    }
   ],
   "source": [
    "# import data and display the first few rows\n",
    "\n",
    "titanic = pd.read_csv('titanic-data.csv')\n",
    "\n",
    "titanic.head()"
   ]
  },
  {
   "cell_type": "markdown",
   "metadata": {},
   "source": [
    "# Data Wrangling Process\n",
    "\n",
    "During the data wrangling process, we will take a closer look at the data set and make changes to data type and missing value when necessary. After we clean the data set, our model will produce a more accurate picture"
   ]
  },
  {
   "cell_type": "code",
   "execution_count": 7,
   "metadata": {},
   "outputs": [
    {
     "name": "stdout",
     "output_type": "stream",
     "text": [
      "<class 'pandas.core.frame.DataFrame'>\n",
      "RangeIndex: 891 entries, 0 to 890\n",
      "Data columns (total 12 columns):\n",
      "PassengerId    891 non-null int64\n",
      "Survived       891 non-null int64\n",
      "Pclass         891 non-null int64\n",
      "Name           891 non-null object\n",
      "Sex            891 non-null object\n",
      "Age            714 non-null float64\n",
      "SibSp          891 non-null int64\n",
      "Parch          891 non-null int64\n",
      "Ticket         891 non-null object\n",
      "Fare           891 non-null float64\n",
      "Cabin          204 non-null object\n",
      "Embarked       889 non-null object\n",
      "dtypes: float64(2), int64(5), object(5)\n",
      "memory usage: 83.6+ KB\n"
     ]
    }
   ],
   "source": [
    "# examine missing data\n",
    "\n",
    "titanic.info()"
   ]
  },
  {
   "cell_type": "markdown",
   "metadata": {},
   "source": [
    "Based on the info in the titanic data set, Age is missing 177 data points (891-714), Cabin is missing 687 data points(891-204), Embarked is missing 2 data points(891-889). \n",
    "\n",
    "Based on our questions, perhaps the Cabin variable can be excluded in our analysis because it carries minimal impact to our initial questions.\n",
    "\n",
    "Embarked is missing 2 data points, perhaps we can make an educated guess and replace the missing data with the mode. We can also remove the 2 rows with the missing data for the variable Embarked. At this time, dropping the 2 rows won't affect the analysis because the 2 data points may have a minor effect on our data(2 out of 891).\n",
    "\n",
    "Lastly, our missing data points for age, since age may be an important variable, we can replace the missing value with the mean age."
   ]
  },
  {
   "cell_type": "code",
   "execution_count": 8,
   "metadata": {},
   "outputs": [
    {
     "data": {
      "text/html": [
       "<div>\n",
       "<style>\n",
       "    .dataframe thead tr:only-child th {\n",
       "        text-align: right;\n",
       "    }\n",
       "\n",
       "    .dataframe thead th {\n",
       "        text-align: left;\n",
       "    }\n",
       "\n",
       "    .dataframe tbody tr th {\n",
       "        vertical-align: top;\n",
       "    }\n",
       "</style>\n",
       "<table border=\"1\" class=\"dataframe\">\n",
       "  <thead>\n",
       "    <tr style=\"text-align: right;\">\n",
       "      <th></th>\n",
       "      <th>PassengerId</th>\n",
       "      <th>Survived</th>\n",
       "      <th>Pclass</th>\n",
       "      <th>Age</th>\n",
       "      <th>SibSp</th>\n",
       "      <th>Parch</th>\n",
       "      <th>Fare</th>\n",
       "    </tr>\n",
       "  </thead>\n",
       "  <tbody>\n",
       "    <tr>\n",
       "      <th>count</th>\n",
       "      <td>891.000000</td>\n",
       "      <td>891.000000</td>\n",
       "      <td>891.000000</td>\n",
       "      <td>714.000000</td>\n",
       "      <td>891.000000</td>\n",
       "      <td>891.000000</td>\n",
       "      <td>891.000000</td>\n",
       "    </tr>\n",
       "    <tr>\n",
       "      <th>mean</th>\n",
       "      <td>446.000000</td>\n",
       "      <td>0.383838</td>\n",
       "      <td>2.308642</td>\n",
       "      <td>29.699118</td>\n",
       "      <td>0.523008</td>\n",
       "      <td>0.381594</td>\n",
       "      <td>32.204208</td>\n",
       "    </tr>\n",
       "    <tr>\n",
       "      <th>std</th>\n",
       "      <td>257.353842</td>\n",
       "      <td>0.486592</td>\n",
       "      <td>0.836071</td>\n",
       "      <td>14.526497</td>\n",
       "      <td>1.102743</td>\n",
       "      <td>0.806057</td>\n",
       "      <td>49.693429</td>\n",
       "    </tr>\n",
       "    <tr>\n",
       "      <th>min</th>\n",
       "      <td>1.000000</td>\n",
       "      <td>0.000000</td>\n",
       "      <td>1.000000</td>\n",
       "      <td>0.420000</td>\n",
       "      <td>0.000000</td>\n",
       "      <td>0.000000</td>\n",
       "      <td>0.000000</td>\n",
       "    </tr>\n",
       "    <tr>\n",
       "      <th>25%</th>\n",
       "      <td>223.500000</td>\n",
       "      <td>0.000000</td>\n",
       "      <td>2.000000</td>\n",
       "      <td>20.125000</td>\n",
       "      <td>0.000000</td>\n",
       "      <td>0.000000</td>\n",
       "      <td>7.910400</td>\n",
       "    </tr>\n",
       "    <tr>\n",
       "      <th>50%</th>\n",
       "      <td>446.000000</td>\n",
       "      <td>0.000000</td>\n",
       "      <td>3.000000</td>\n",
       "      <td>28.000000</td>\n",
       "      <td>0.000000</td>\n",
       "      <td>0.000000</td>\n",
       "      <td>14.454200</td>\n",
       "    </tr>\n",
       "    <tr>\n",
       "      <th>75%</th>\n",
       "      <td>668.500000</td>\n",
       "      <td>1.000000</td>\n",
       "      <td>3.000000</td>\n",
       "      <td>38.000000</td>\n",
       "      <td>1.000000</td>\n",
       "      <td>0.000000</td>\n",
       "      <td>31.000000</td>\n",
       "    </tr>\n",
       "    <tr>\n",
       "      <th>max</th>\n",
       "      <td>891.000000</td>\n",
       "      <td>1.000000</td>\n",
       "      <td>3.000000</td>\n",
       "      <td>80.000000</td>\n",
       "      <td>8.000000</td>\n",
       "      <td>6.000000</td>\n",
       "      <td>512.329200</td>\n",
       "    </tr>\n",
       "  </tbody>\n",
       "</table>\n",
       "</div>"
      ],
      "text/plain": [
       "       PassengerId    Survived      Pclass         Age       SibSp  \\\n",
       "count   891.000000  891.000000  891.000000  714.000000  891.000000   \n",
       "mean    446.000000    0.383838    2.308642   29.699118    0.523008   \n",
       "std     257.353842    0.486592    0.836071   14.526497    1.102743   \n",
       "min       1.000000    0.000000    1.000000    0.420000    0.000000   \n",
       "25%     223.500000    0.000000    2.000000   20.125000    0.000000   \n",
       "50%     446.000000    0.000000    3.000000   28.000000    0.000000   \n",
       "75%     668.500000    1.000000    3.000000   38.000000    1.000000   \n",
       "max     891.000000    1.000000    3.000000   80.000000    8.000000   \n",
       "\n",
       "            Parch        Fare  \n",
       "count  891.000000  891.000000  \n",
       "mean     0.381594   32.204208  \n",
       "std      0.806057   49.693429  \n",
       "min      0.000000    0.000000  \n",
       "25%      0.000000    7.910400  \n",
       "50%      0.000000   14.454200  \n",
       "75%      0.000000   31.000000  \n",
       "max      6.000000  512.329200  "
      ]
     },
     "execution_count": 8,
     "metadata": {},
     "output_type": "execute_result"
    }
   ],
   "source": [
    "titanic.describe()"
   ]
  },
  {
   "cell_type": "markdown",
   "metadata": {},
   "source": [
    "Looking at the above data, we see max age passenger is 80 years, minimum age passenger is 0.42. The average age of passenger is approximately 29.69. The max passenger fare is $512.32 and minimum passenger fare is 0.00. Lets dig a bit deeper into some gender related statistics."
   ]
  },
  {
   "cell_type": "code",
   "execution_count": 9,
   "metadata": {},
   "outputs": [
    {
     "name": "stdout",
     "output_type": "stream",
     "text": [
      "Number of female passengers = 314\n",
      "Number of male passengers = 577\n"
     ]
    }
   ],
   "source": [
    "# Find the number of male and female passengers\n",
    "female_pass=(titanic[titanic['Sex'] == 'female'])\n",
    "print('{} = {}'.format('Number of female passengers', len(female_pass)))\n",
    "male_pass=(titanic[titanic['Sex'] == 'male'])\n",
    "print('{} = {}'.format('Number of male passengers', len(male_pass)))"
   ]
  },
  {
   "cell_type": "code",
   "execution_count": 55,
   "metadata": {},
   "outputs": [
    {
     "name": "stdout",
     "output_type": "stream",
     "text": [
      "Percent of female passengers = 35.24 %\n",
      "Percent of male passengers = 64.76 %\n"
     ]
    }
   ],
   "source": [
    "## Finding the percentage of male and female passengers\n",
    "percent_female = len(female_pass)/891*100\n",
    "percent_male = len(male_pass)/891*100\n",
    "print ('{} = {} %'.format('Percent of female passengers', np.around(percent_female, decimals=2)))\n",
    "print ('{} = {} %'.format('Percent of male passengers', np.around(percent_male, decimals=2)))"
   ]
  },
  {
   "cell_type": "code",
   "execution_count": 11,
   "metadata": {},
   "outputs": [
    {
     "data": {
      "text/plain": [
       "<matplotlib.text.Text at 0x1133a10f0>"
      ]
     },
     "execution_count": 11,
     "metadata": {},
     "output_type": "execute_result"
    }
   ],
   "source": [
    "gender = titanic.groupby('Sex')\n",
    "sex= gender.size()\n",
    "my_plot = sex.plot(kind='barh', title = 'Number of Male & Female Passengers', figsize =(16, 3))\n",
    "my_plot.set_xlabel('Number Of Passengers')"
   ]
  },
  {
   "cell_type": "markdown",
   "metadata": {},
   "source": [
    "As a result, the number of men 577 exceeded the number of women 314. Lets clean up the data by removing the cabin variable and the 2 data points of the Embarked variable."
   ]
  },
  {
   "cell_type": "code",
   "execution_count": 12,
   "metadata": {},
   "outputs": [
    {
     "data": {
      "text/html": [
       "<div>\n",
       "<style>\n",
       "    .dataframe thead tr:only-child th {\n",
       "        text-align: right;\n",
       "    }\n",
       "\n",
       "    .dataframe thead th {\n",
       "        text-align: left;\n",
       "    }\n",
       "\n",
       "    .dataframe tbody tr th {\n",
       "        vertical-align: top;\n",
       "    }\n",
       "</style>\n",
       "<table border=\"1\" class=\"dataframe\">\n",
       "  <thead>\n",
       "    <tr style=\"text-align: right;\">\n",
       "      <th></th>\n",
       "      <th>PassengerId</th>\n",
       "      <th>Survived</th>\n",
       "      <th>Pclass</th>\n",
       "      <th>Name</th>\n",
       "      <th>Sex</th>\n",
       "      <th>Age</th>\n",
       "      <th>SibSp</th>\n",
       "      <th>Parch</th>\n",
       "      <th>Ticket</th>\n",
       "      <th>Fare</th>\n",
       "      <th>Embarked</th>\n",
       "    </tr>\n",
       "  </thead>\n",
       "  <tbody>\n",
       "    <tr>\n",
       "      <th>0</th>\n",
       "      <td>1</td>\n",
       "      <td>0</td>\n",
       "      <td>3</td>\n",
       "      <td>Braund, Mr. Owen Harris</td>\n",
       "      <td>male</td>\n",
       "      <td>22.0</td>\n",
       "      <td>1</td>\n",
       "      <td>0</td>\n",
       "      <td>A/5 21171</td>\n",
       "      <td>7.2500</td>\n",
       "      <td>S</td>\n",
       "    </tr>\n",
       "    <tr>\n",
       "      <th>1</th>\n",
       "      <td>2</td>\n",
       "      <td>1</td>\n",
       "      <td>1</td>\n",
       "      <td>Cumings, Mrs. John Bradley (Florence Briggs Th...</td>\n",
       "      <td>female</td>\n",
       "      <td>38.0</td>\n",
       "      <td>1</td>\n",
       "      <td>0</td>\n",
       "      <td>PC 17599</td>\n",
       "      <td>71.2833</td>\n",
       "      <td>C</td>\n",
       "    </tr>\n",
       "    <tr>\n",
       "      <th>2</th>\n",
       "      <td>3</td>\n",
       "      <td>1</td>\n",
       "      <td>3</td>\n",
       "      <td>Heikkinen, Miss. Laina</td>\n",
       "      <td>female</td>\n",
       "      <td>26.0</td>\n",
       "      <td>0</td>\n",
       "      <td>0</td>\n",
       "      <td>STON/O2. 3101282</td>\n",
       "      <td>7.9250</td>\n",
       "      <td>S</td>\n",
       "    </tr>\n",
       "    <tr>\n",
       "      <th>3</th>\n",
       "      <td>4</td>\n",
       "      <td>1</td>\n",
       "      <td>1</td>\n",
       "      <td>Futrelle, Mrs. Jacques Heath (Lily May Peel)</td>\n",
       "      <td>female</td>\n",
       "      <td>35.0</td>\n",
       "      <td>1</td>\n",
       "      <td>0</td>\n",
       "      <td>113803</td>\n",
       "      <td>53.1000</td>\n",
       "      <td>S</td>\n",
       "    </tr>\n",
       "    <tr>\n",
       "      <th>4</th>\n",
       "      <td>5</td>\n",
       "      <td>0</td>\n",
       "      <td>3</td>\n",
       "      <td>Allen, Mr. William Henry</td>\n",
       "      <td>male</td>\n",
       "      <td>35.0</td>\n",
       "      <td>0</td>\n",
       "      <td>0</td>\n",
       "      <td>373450</td>\n",
       "      <td>8.0500</td>\n",
       "      <td>S</td>\n",
       "    </tr>\n",
       "  </tbody>\n",
       "</table>\n",
       "</div>"
      ],
      "text/plain": [
       "   PassengerId  Survived  Pclass  \\\n",
       "0            1         0       3   \n",
       "1            2         1       1   \n",
       "2            3         1       3   \n",
       "3            4         1       1   \n",
       "4            5         0       3   \n",
       "\n",
       "                                                Name     Sex   Age  SibSp  \\\n",
       "0                            Braund, Mr. Owen Harris    male  22.0      1   \n",
       "1  Cumings, Mrs. John Bradley (Florence Briggs Th...  female  38.0      1   \n",
       "2                             Heikkinen, Miss. Laina  female  26.0      0   \n",
       "3       Futrelle, Mrs. Jacques Heath (Lily May Peel)  female  35.0      1   \n",
       "4                           Allen, Mr. William Henry    male  35.0      0   \n",
       "\n",
       "   Parch            Ticket     Fare Embarked  \n",
       "0      0         A/5 21171   7.2500        S  \n",
       "1      0          PC 17599  71.2833        C  \n",
       "2      0  STON/O2. 3101282   7.9250        S  \n",
       "3      0            113803  53.1000        S  \n",
       "4      0            373450   8.0500        S  "
      ]
     },
     "execution_count": 12,
     "metadata": {},
     "output_type": "execute_result"
    }
   ],
   "source": [
    "# Remove the cabin variable\n",
    "remove_cabin= titanic.drop(['Cabin'], axis = 1)\n",
    "\n",
    "# Remove the 2 data points with missing Embarked values\n",
    "titanic_clean=remove_cabin[pd.notnull(remove_cabin['Embarked'])]\n",
    "\n",
    "# Display the first few rows of the new cleaning dataset\n",
    "\n",
    "titanic_clean.head()"
   ]
  },
  {
   "cell_type": "code",
   "execution_count": 13,
   "metadata": {},
   "outputs": [
    {
     "name": "stdout",
     "output_type": "stream",
     "text": [
      "Populating the interactive namespace from numpy and matplotlib\n"
     ]
    },
    {
     "data": {
      "text/plain": [
       "<matplotlib.text.Text at 0x116684a58>"
      ]
     },
     "execution_count": 13,
     "metadata": {},
     "output_type": "execute_result"
    },
    {
     "data": {
      "image/png": "[encoded data removed]",
      "text/plain": [
       "<matplotlib.figure.Figure at 0x1132f0748>"
      ]
     },
     "metadata": {},
     "output_type": "display_data"
    }
   ],
   "source": [
    "# Exam the distribution of age - histogram\n",
    "\n",
    "%matplotlib inline\n",
    "%pylab inline\n",
    "\n",
    "ax = titanic_clean['Age'].hist(bins = 80)\n",
    "ax.set_ylabel('Number of Passengers')\n",
    "ax.set_xlabel('Age')\n",
    "ax.set_title('Distribution of Age in Histogram')"
   ]
  },
  {
   "cell_type": "code",
   "execution_count": 14,
   "metadata": {},
   "outputs": [
    {
     "name": "stdout",
     "output_type": "stream",
     "text": [
      "Populating the interactive namespace from numpy and matplotlib\n"
     ]
    },
    {
     "data": {
      "text/plain": [
       "<matplotlib.text.Text at 0x11695beb8>"
      ]
     },
     "execution_count": 14,
     "metadata": {},
     "output_type": "execute_result"
    },
    {
     "data": {
      "image/png": "[encoded data removed]",
      "text/plain": [
       "<matplotlib.figure.Figure at 0x1130f5a58>"
      ]
     },
     "metadata": {},
     "output_type": "display_data"
    }
   ],
   "source": [
    "# Exam the distribution of age - boxplot\n",
    "\n",
    "%matplotlib inline\n",
    "%pylab inline\n",
    "\n",
    "bp = titanic_clean['Age'].plot.box()\n",
    "bp.set_ylabel('Age Value')\n",
    "bp.set_title('Distribution of Age in Boxplot')"
   ]
  },
  {
   "cell_type": "code",
   "execution_count": 15,
   "metadata": {},
   "outputs": [
    {
     "data": {
      "text/plain": [
       "count    712.000000\n",
       "mean      29.642093\n",
       "std       14.492933\n",
       "min        0.420000\n",
       "25%       20.000000\n",
       "50%       28.000000\n",
       "75%       38.000000\n",
       "max       80.000000\n",
       "Name: Age, dtype: float64"
      ]
     },
     "execution_count": 15,
     "metadata": {},
     "output_type": "execute_result"
    }
   ],
   "source": [
    "titanic_clean.Age.describe()"
   ]
  },
  {
   "cell_type": "markdown",
   "metadata": {},
   "source": [
    "The mean age is 29.64. We can replace the missing age values with the mean age."
   ]
  },
  {
   "cell_type": "code",
   "execution_count": 16,
   "metadata": {},
   "outputs": [
    {
     "name": "stderr",
     "output_type": "stream",
     "text": [
      "/Users/johnngo/anaconda/envs/dataanalyst/lib/python3.6/site-packages/ipykernel/__main__.py:15: SettingWithCopyWarning: \n",
      "A value is trying to be set on a copy of a slice from a DataFrame.\n",
      "Try using .loc[row_indexer,col_indexer] = value instead\n",
      "\n",
      "See the caveats in the documentation: http://pandas.pydata.org/pandas-docs/stable/indexing.html#indexing-view-versus-copy\n"
     ]
    }
   ],
   "source": [
    "missing_ages = titanic_clean[titanic_clean['Age'].isnull()]\n",
    "# determine mean age based on Sex and Pclass\n",
    "mean_ages = titanic_clean.groupby(['Sex','Pclass'])['Age'].mean()\n",
    "\n",
    "def remove_na_ages(row):\n",
    "    '''\n",
    "    function to check if the age is null and replace with the mean from \n",
    "    the mean ages dataframe \n",
    "    '''\n",
    "    if pd.isnull(row['Age']):\n",
    "        return mean_ages[row['Sex'],row['Pclass']]\n",
    "    else:\n",
    "        return row['Age']\n",
    "\n",
    "titanic_clean['Age'] =titanic_clean.apply(remove_na_ages, axis=1)"
   ]
  },
  {
   "cell_type": "code",
   "execution_count": 17,
   "metadata": {},
   "outputs": [
    {
     "data": {
      "text/plain": [
       "count    889.000000\n",
       "mean      29.268362\n",
       "std       13.245995\n",
       "min        0.420000\n",
       "25%       21.750000\n",
       "50%       26.507589\n",
       "75%       36.000000\n",
       "max       80.000000\n",
       "Name: Age, dtype: float64"
      ]
     },
     "execution_count": 17,
     "metadata": {},
     "output_type": "execute_result"
    }
   ],
   "source": [
    "titanic_clean.Age.describe()"
   ]
  },
  {
   "cell_type": "code",
   "execution_count": 18,
   "metadata": {},
   "outputs": [
    {
     "name": "stdout",
     "output_type": "stream",
     "text": [
      "<class 'pandas.core.frame.DataFrame'>\n",
      "Int64Index: 889 entries, 0 to 890\n",
      "Data columns (total 11 columns):\n",
      "PassengerId    889 non-null int64\n",
      "Survived       889 non-null int64\n",
      "Pclass         889 non-null int64\n",
      "Name           889 non-null object\n",
      "Sex            889 non-null object\n",
      "Age            889 non-null float64\n",
      "SibSp          889 non-null int64\n",
      "Parch          889 non-null int64\n",
      "Ticket         889 non-null object\n",
      "Fare           889 non-null float64\n",
      "Embarked       889 non-null object\n",
      "dtypes: float64(2), int64(5), object(4)\n",
      "memory usage: 83.3+ KB\n"
     ]
    }
   ],
   "source": [
    "titanic_clean.info()"
   ]
  },
  {
   "cell_type": "code",
   "execution_count": 19,
   "metadata": {},
   "outputs": [
    {
     "name": "stdout",
     "output_type": "stream",
     "text": [
      "<class 'pandas.core.frame.DataFrame'>\n",
      "Int64Index: 889 entries, 0 to 890\n",
      "Data columns (total 9 columns):\n",
      "PassengerId    889 non-null int64\n",
      "Survived       889 non-null int64\n",
      "Pclass         889 non-null int64\n",
      "Sex            889 non-null object\n",
      "Age            889 non-null float64\n",
      "SibSp          889 non-null int64\n",
      "Parch          889 non-null int64\n",
      "Fare           889 non-null float64\n",
      "Embarked       889 non-null object\n",
      "dtypes: float64(2), int64(5), object(2)\n",
      "memory usage: 69.5+ KB\n"
     ]
    }
   ],
   "source": [
    "# Removing columns Name and Ticket\n",
    "titanic_clean=titanic_clean.drop(['Name','Ticket'], axis=1)\n",
    "titanic_clean.info()"
   ]
  },
  {
   "cell_type": "markdown",
   "metadata": {},
   "source": [
    "# Data Exploration Process & Predictions\n",
    "\n",
    "Now we have a clean dataset to work with. We can start the data exploration process and begin answering the questions proposed earlier.\n",
    "\n",
    "## Question 1. What is the percentage of people survived?\n"
   ]
  },
  {
   "cell_type": "code",
   "execution_count": 28,
   "metadata": {},
   "outputs": [
    {
     "name": "stdout",
     "output_type": "stream",
     "text": [
      "38.2452193476\n"
     ]
    }
   ],
   "source": [
    "# the number of people survived\n",
    "survived = titanic_clean.Survived \n",
    "\n",
    "# Calculate the total number of passengers survived\n",
    "sum(survived)\n",
    "\n",
    "# Calculate the total number of passengers\n",
    "total_survived =len(titanic_clean)\n",
    "\n",
    "# Calculate the percentage survived\n",
    "\n",
    "print (sum(survived) * 100/total_survived)"
   ]
  },
  {
   "cell_type": "markdown",
   "metadata": {},
   "source": [
    "Based on our calculation, we see that about 38.25% of the passenger on the titanic survived."
   ]
  },
  {
   "cell_type": "markdown",
   "metadata": {},
   "source": [
    "## Question 2. Are woman more likely to survive than men? Are the survival rate different across age groups? Do higher passenger classes play a role?"
   ]
  },
  {
   "cell_type": "code",
   "execution_count": 56,
   "metadata": {},
   "outputs": [
    {
     "name": "stdout",
     "output_type": "stream",
     "text": [
      "Percent of surviving Females = 73.57\n",
      "Percent of surviving Males = 18.89\n"
     ]
    }
   ],
   "source": [
    "# Finding the percentage of female passengers who survived\n",
    "pct_female_survived = len(titanic_clean[(titanic_clean['Survived'] == 1) & (titanic_clean['Sex'] == 'female')])/(len(female_pass)*1.0)*100\n",
    "print ('{} = {}'.format('Percent of surviving Females', np.around(pct_female_survived, decimals=2)))\n",
    "\n",
    "# Finding the percentage of male passengers who survived\n",
    "pct_male_survived = len(titanic_clean[(titanic_clean['Survived'] == 1) & (titanic_clean['Sex'] == 'male')])/(len(male_pass)*1.0)*100\n",
    "print ('{} = {}'.format('Percent of surviving Males', np.around(pct_male_survived, decimals=2)))"
   ]
  },
  {
   "cell_type": "code",
   "execution_count": 21,
   "metadata": {},
   "outputs": [
    {
     "data": {
      "image/png": "[encoded data removed]",
      "text/plain": [
       "<matplotlib.figure.Figure at 0x116789780>"
      ]
     },
     "metadata": {},
     "output_type": "display_data"
    }
   ],
   "source": [
    "# Evaluate the average rate of survival of men and womean?\n",
    "\n",
    "plot_sex = titanic_clean.groupby(['Sex'])[['Survived']].mean().plot(kind='bar').set_ylabel('Survival')"
   ]
  },
  {
   "cell_type": "markdown",
   "metadata": {},
   "source": [
    "Based on the above graph, we see that the number of surviving male(18.89%) is far less than the number of surviving females(73.57%) eventhough the number of males far exceeded the number for females. In my opinion, this was due to the evacuation process where women, children and elderly were first to board the lifeboats."
   ]
  },
  {
   "cell_type": "code",
   "execution_count": 57,
   "metadata": {},
   "outputs": [
    {
     "name": "stdout",
     "output_type": "stream",
     "text": [
      "Number of Children = 113\n",
      "Number of Adults = 776\n",
      "Number of surviving children = 61\n",
      "Number of surviving adults = 279\n",
      "Percent of surviving children = 53.98 %\n",
      "Percent of surviving adults = 35.95 %\n"
     ]
    },
    {
     "data": {
      "text/plain": [
       "<matplotlib.text.Text at 0x11705feb8>"
      ]
     },
     "execution_count": 57,
     "metadata": {},
     "output_type": "execute_result"
    },
    {
     "data": {
      "image/png": "[encoded data removed]",
      "text/plain": [
       "<matplotlib.figure.Figure at 0x116fb8550>"
      ]
     },
     "metadata": {},
     "output_type": "display_data"
    }
   ],
   "source": [
    "# Finding the number of children and adults who were onboard\n",
    "num_of_children = len(titanic_clean[titanic_clean['Age'] < 18])\n",
    "num_of_adults = len(titanic_clean[titanic_clean['Age'] >= 18])\n",
    "\n",
    "## In most countries of the world, minor is legally defined as a person under the age of 18\n",
    "num_of_children_who_survived= len(titanic_clean[(titanic_clean['Age'] < 18) & (titanic_clean['Survived'] == 1)])\n",
    "num_of_adults_who_survived= len(titanic_clean[(titanic_clean['Age'] >= 18) & (titanic_clean['Survived'] == 1)])\n",
    "\n",
    "print ('{} = {}'.format('Number of Children',  num_of_children))\n",
    "print ('{} = {}'.format('Number of Adults', num_of_adults))\n",
    "print ('{} = {}'.format('Number of surviving children', num_of_children_who_survived))\n",
    "print ('{} = {}'.format('Number of surviving adults', num_of_adults_who_survived))\n",
    "\n",
    "##Finding percentages of children and adults who survived\n",
    "percent_children_who_survived = num_of_children_who_survived*1.0/num_of_children * 100\n",
    "percent_adults_who_survived = num_of_adults_who_survived*1.0/num_of_adults * 100\n",
    "\n",
    "print ('{} = {} %'.format('Percent of surviving children', np.around(percent_children_who_survived, decimals=2)))\n",
    "print ('{} = {} %'.format('Percent of surviving adults', np.around(percent_adults_who_survived, decimals=2)))\n",
    "\n",
    "# Evaluating the average rate of survival of different age group\n",
    "\n",
    "titanic_clean['Age_categories'] = pd.cut(titanic_clean['Age'], bins=[0,18,90], labels = ['Child','Adult'])\n",
    "titanic_clean.groupby(['Age_categories'])[['Survived']].mean().plot(kind='bar').set_ylabel('survival')"
   ]
  },
  {
   "cell_type": "markdown",
   "metadata": {},
   "source": [
    "With these statistics, it is evident that there is a higher percentage(53.98%) of children (less than 18) survived compared to adults(35.95%). This may be the result of the women and children who were the first to be evacuated in the lifeboats when the ship started sinking."
   ]
  },
  {
   "cell_type": "code",
   "execution_count": 60,
   "metadata": {},
   "outputs": [
    {
     "name": "stdout",
     "output_type": "stream",
     "text": [
      "First Class Passengers = 214\n",
      "Second Class Passengers = 184\n",
      "Third Class Passengers = 491\n",
      "Surviving First Class Passengers = 134\n",
      "Surviving Second Class Passengers = 87\n",
      "Surviving Third Class Passengers = 119\n"
     ]
    }
   ],
   "source": [
    "# Finding the number of passengers a part of first, second and third class\n",
    "\n",
    "firstclass= len(titanic_clean[titanic_clean['Pclass'] == 1])\n",
    "secondclass= len(titanic_clean[titanic_clean['Pclass'] == 2])\n",
    "thirdclass= len(titanic_clean[titanic_clean['Pclass'] == 3])\n",
    "\n",
    "# Find the number of passengers a part of first, second and third class who survived\n",
    "\n",
    "firstclass_survived = len(titanic_clean[(titanic_clean['Pclass'] == 1) & (titanic_clean['Survived'] == 1)])\n",
    "secondclass_survived = len(titanic_clean[(titanic_clean['Pclass'] == 2) & (titanic_clean['Survived'] == 1)])\n",
    "thirdclass_survived = len(titanic_clean[(titanic_clean['Pclass'] == 3) & (titanic_clean['Survived'] == 1)])\n",
    "\n",
    "print ('{} = {}'.format('First Class Passengers', firstclass))\n",
    "print ('{} = {}'.format('Second Class Passengers', secondclass))\n",
    "print ('{} = {}'.format('Third Class Passengers', thirdclass))\n",
    "print ('{} = {}'.format('Surviving First Class Passengers', firstclass_survived))\n",
    "print ('{} = {}'.format('Surviving Second Class Passengers', secondclass_survived))\n",
    "print ('{} = {}'.format('Surviving Third Class Passengers', thirdclass_survived))"
   ]
  },
  {
   "cell_type": "code",
   "execution_count": 61,
   "metadata": {},
   "outputs": [
    {
     "name": "stdout",
     "output_type": "stream",
     "text": [
      "Percent of surviving First Class Passengers = 62.62 %\n",
      "Percent of surviving Second Class Passengers = 47.28 %\n",
      "Percent of surviving Third Class Passengers = 24.24 %\n"
     ]
    }
   ],
   "source": [
    "# Finding percentages of people belonging to the first, second, third class who survived\n",
    "percent_surviving_firstclass = firstclass_survived*1.0/firstclass * 100\n",
    "percent_surviving_secondclass = secondclass_survived*1.0/secondclass * 100\n",
    "percent_surviving_thirdclass = thirdclass_survived*1.0/thirdclass * 100\n",
    "\n",
    "print ('{} = {} %'.format('Percent of surviving First Class Passengers', np.around(percent_surviving_firstclass, decimals=2)))\n",
    "print ('{} = {} %'.format('Percent of surviving Second Class Passengers', np.around(percent_surviving_secondclass, decimals=2)))\n",
    "print ('{} = {} %'.format('Percent of surviving Third Class Passengers', np.around(percent_surviving_thirdclass, decimals=2)))"
   ]
  },
  {
   "cell_type": "code",
   "execution_count": 26,
   "metadata": {},
   "outputs": [
    {
     "data": {
      "text/plain": [
       "<matplotlib.text.Text at 0x10e93e0f0>"
      ]
     },
     "execution_count": 26,
     "metadata": {},
     "output_type": "execute_result"
    },
    {
     "data": {
      "image/png": "[encoded data removed]",
      "text/plain": [
       "<matplotlib.figure.Figure at 0x10e419668>"
      ]
     },
     "metadata": {},
     "output_type": "display_data"
    }
   ],
   "source": [
    "# Exam the average rate of survival across passenger classes\n",
    "titanic_clean.groupby(['Pclass'])[['Survived']].mean().plot(kind='bar').set_ylabel('Survival')"
   ]
  },
  {
   "cell_type": "markdown",
   "metadata": {},
   "source": [
    "Evidently, we see that significantly more first Class passengers (62.62%) survived compared to 2nd Class (47.28%) and 3rd Class (24.24%) passengers."
   ]
  },
  {
   "cell_type": "markdown",
   "metadata": {},
   "source": [
    "## Question 3. Are people with higher fare more likely to survive?"
   ]
  },
  {
   "cell_type": "code",
   "execution_count": 59,
   "metadata": {},
   "outputs": [
    {
     "name": "stdout",
     "output_type": "stream",
     "text": [
      "Number of low fare passenger = 436\n",
      "Number of high fare passenger = 432\n",
      "Number of surviving low fare passenger = 111\n",
      "Number of surviving high fare passenger = 226\n",
      "Percent of surviving low fare passenger = 25.46 %\n",
      "Percent of surviving high fare passenger = 52.31 %\n"
     ]
    }
   ],
   "source": [
    "# Finding the number of low fare passenger and high fare passenger who were onboard\n",
    "lowfare = len(titanic_clean[titanic_clean['Fare'] < 14])\n",
    "highfare = len(titanic_clean[titanic_clean['Fare'] >= 15])\n",
    "\n",
    "## In most countries of the world, minor is legally defined as a person under the age of 18\n",
    "num_of_lowfare_survived= len(titanic_clean[(titanic_clean['Fare'] < 14) & (titanic_clean['Survived'] == 1)])\n",
    "num_of_highfare_survived= len(titanic_clean[(titanic_clean['Fare'] >= 15) & (titanic_clean['Survived'] == 1)])\n",
    "\n",
    "print ('{} = {}'.format('Number of low fare passenger',  lowfare))\n",
    "print ('{} = {}'.format('Number of high fare passenger', highfare))\n",
    "print ('{} = {}'.format('Number of surviving low fare passenger', num_of_lowfare_survived))\n",
    "print ('{} = {}'.format('Number of surviving high fare passenger', num_of_highfare_survived))\n",
    "\n",
    "##Finding percentages of children and adults who survived\n",
    "percent_lowfare_who_survived = num_of_lowfare_survived*1.0/lowfare * 100\n",
    "percent_highfare_who_survived = num_of_highfare_survived*1.0/highfare * 100\n",
    "\n",
    "print ('{} = {} %'.format('Percent of surviving low fare passenger', np.around(percent_lowfare_who_survived, decimals=2)))\n",
    "print ('{} = {} %'.format('Percent of surviving high fare passenger', np.around(percent_highfare_who_survived, decimals=2)))"
   ]
  },
  {
   "cell_type": "code",
   "execution_count": 25,
   "metadata": {},
   "outputs": [
    {
     "data": {
      "text/plain": [
       "<matplotlib.text.Text at 0x10e91f4a8>"
      ]
     },
     "execution_count": 25,
     "metadata": {},
     "output_type": "execute_result"
    },
    {
     "data": {
      "image/png": "[encoded data removed]",
      "text/plain": [
       "<matplotlib.figure.Figure at 0x10e80b828>"
      ]
     },
     "metadata": {},
     "output_type": "display_data"
    }
   ],
   "source": [
    "titanic_clean['Fare_categories'] = pd.cut(titanic_clean['Fare'], bins=[0,14,513], labels = ['Low Fare','High Fare'])\n",
    "titanic_clean.groupby(['Fare_categories'])[['Survived']].mean().plot(kind='bar').set_ylabel('Survival')"
   ]
  },
  {
   "cell_type": "markdown",
   "metadata": {
    "collapsed": true
   },
   "source": [
    "Based on the graph, people with higher fare are more likely to survive(52.31%) vs low fare(25.46%), perhaps its similar to our first class passenger who may have paid more to have a better space on the boat which may have had easier access to the lifeboats.\n"
   ]
  },
  {
   "cell_type": "markdown",
   "metadata": {},
   "source": [
    "## Question 4. Are people with big family more or less likely to survive?"
   ]
  },
  {
   "cell_type": "code",
   "execution_count": 27,
   "metadata": {
    "collapsed": true
   },
   "outputs": [],
   "source": [
    "# Create new variable 'Family size'\n",
    "\n",
    "titanic_clean['Family_size'] = titanic_clean['SibSp'] + titanic_clean['Parch']"
   ]
  },
  {
   "cell_type": "code",
   "execution_count": 29,
   "metadata": {},
   "outputs": [
    {
     "data": {
      "text/plain": [
       "<matplotlib.text.Text at 0x10e539358>"
      ]
     },
     "execution_count": 29,
     "metadata": {},
     "output_type": "execute_result"
    },
    {
     "data": {
      "image/png": "[encoded data removed]",
      "text/plain": [
       "<matplotlib.figure.Figure at 0x10ec0a438>"
      ]
     },
     "metadata": {},
     "output_type": "display_data"
    }
   ],
   "source": [
    "# Exam the average rate of survival across number of family members\n",
    "\n",
    "titanic_clean.groupby(['Family_size'])[['Survived']].mean().plot(kind='bar').set_ylabel('Survival')"
   ]
  },
  {
   "cell_type": "markdown",
   "metadata": {},
   "source": [
    "Based on our observation, we discover that family size greater then 3 lowers the chances of survival. Perhaps, this may be because a larger family size may let the younger member of the family to board the lifeboat first. "
   ]
  },
  {
   "cell_type": "markdown",
   "metadata": {},
   "source": [
    "# Conclusion \n",
    "\n",
    "With our analysis, we have been able to gain insights into the titanic data set. We were able to uncover some important factors that played a role in the survival of the passengers on board the titanic. \n",
    "\n",
    "(i) 38.25% of the passenger on the titanic survived.\n",
    "\n",
    "(ii) The number of surviving male(18.89%) is far less than the number of surviving females(73.57%) eventhough the number of males far exceeded the number of females.It is evident that there is a higher percentage(53.98%) of children (less than 18) survived compared to adults(35.95%).Evidently we see significantly more first Class passengers (62.62%) survived compared to second Class (47.28%) and third Class (24.24%) passengers.\n",
    "\n",
    "(iii) People who paid for the higher fare are more likely to survive(52.31%) vs low fare(25.46%)\n",
    "\n",
    "(iv) We discover that family size greater then 3 lowers the chances of survival.\n"
   ]
  },
  {
   "cell_type": "markdown",
   "metadata": {},
   "source": [
    "# References\n",
    "\n",
    "    * https://www.kaggle.com/c/titanic/data\n",
    "    * https://www.tutorialspoint.com/python/python_functions.htm\n",
    "    * https://matplotlib.org/examples/index.html"
   ]
  }
 ],
 "metadata": {
  "kernelspec": {
   "display_name": "Python [conda env:dataanalyst]",
   "language": "python",
   "name": "conda-env-dataanalyst-py"
  },
  "language_info": {
   "codemirror_mode": {
    "name": "ipython",
    "version": 3
   },
   "file_extension": ".py",
   "mimetype": "text/x-python",
   "name": "python",
   "nbconvert_exporter": "python",
   "pygments_lexer": "ipython3",
   "version": "3.6.2"
  }
 },
 "nbformat": 4,
 "nbformat_minor": 2
}
